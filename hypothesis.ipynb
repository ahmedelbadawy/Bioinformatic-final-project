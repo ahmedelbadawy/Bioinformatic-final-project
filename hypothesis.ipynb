{
 "cells": [
  {
   "cell_type": "code",
   "execution_count": 6,
   "metadata": {},
   "outputs": [],
   "source": [
    "import pandas as pd\n",
    "from scipy.stats import ttest_rel,ttest_ind,wilcoxon,mannwhitneyu\n",
    "from statsmodels.stats.multitest import multipletests\n",
    "\n",
    "#read csv files and create DataFrames\n",
    "healthy = pd.read_csv('data/lusc-rsem-fpkm-tcga_paired.txt', sep='\\t')\n",
    "cancer = pd.read_csv('data/lusc-rsem-fpkm-tcga-t_paired.txt', sep='\\t')\n"
   ]
  },
  {
   "cell_type": "code",
   "execution_count": 7,
   "metadata": {},
   "outputs": [
    {
     "name": "stdout",
     "output_type": "stream",
     "text": [
      "(19648, 52)\n",
      "(19648, 52)\n",
      "(17626, 52)\n",
      "(17717, 52)\n",
      "(17275, 52)\n",
      "(17275, 52)\n"
     ]
    }
   ],
   "source": [
    "print(healthy.shape)\n",
    "print(cancer.shape)\n",
    "#remove rows with many zeros\n",
    "healthy =healthy[(healthy == 0).sum(1) < 25]\n",
    "cancer =cancer[(cancer == 0).sum(1) < 25]\n",
    "print(healthy.shape)\n",
    "print(cancer.shape)\n",
    "intersected_genes = set(healthy['Hugo_Symbol']).intersection(set(cancer['Hugo_Symbol']))\n",
    "healthy =healthy[healthy['Hugo_Symbol'].isin(intersected_genes)]\n",
    "cancer =cancer[cancer['Hugo_Symbol'].isin(intersected_genes)]\n",
    "print(healthy.shape)\n",
    "print(cancer.shape)\n"
   ]
  },
  {
   "cell_type": "code",
   "execution_count": 8,
   "metadata": {},
   "outputs": [
    {
     "name": "stdout",
     "output_type": "stream",
     "text": [
      "10281 15247\n"
     ]
    }
   ],
   "source": [
    "from scipy.stats import shapiro\n",
    "healthy_nonNormal =0\n",
    "cancer_nonNormal =0\n",
    "for i in range(cancer.shape[0]):\n",
    "    stat_h,p_h = shapiro(healthy.iloc[i,2:])\n",
    "    stat_c,p_c = shapiro(cancer.iloc[i,2:])\n",
    "    if p_h < 0.05:\n",
    "        healthy_nonNormal+=1\n",
    "    if p_c < 0.05:\n",
    "        cancer_nonNormal+=1\n",
    "print(healthy_nonNormal,cancer_nonNormal)"
   ]
  },
  {
   "cell_type": "code",
   "execution_count": 9,
   "metadata": {},
   "outputs": [],
   "source": [
    "rel_val =[]\n",
    "ind_val =[]\n",
    "for i in range(cancer.shape[0]):\n",
    "    #to make Samples paired\n",
    "    p_val_rel = wilcoxon(healthy.iloc[i,2:].to_list(), cancer.iloc[i,2:].to_list()).pvalue\n",
    "    #to make Samples indpendant\n",
    "    p_val_ind = mannwhitneyu(healthy.iloc[i,2:].to_list(), cancer.iloc[i,2:].to_list()).pvalue \n",
    "    #append p values to lists\n",
    "    rel_val.append(p_val_rel)\n",
    "    ind_val.append(p_val_ind)\n",
    "\n",
    "#Apply the FDR multiple tests correction method\n",
    "p_relval_fdr = multipletests(rel_val, alpha=0.05, method='fdr_bh')[1]\n",
    "p_indval_fdr = multipletests(ind_val, alpha=0.05, method='fdr_bh')[1]\n",
    "\n",
    "#get the list of DEGs before and after the FDR correction for Samples paired\n",
    "sign_paired = pd.DataFrame({'Hugo_Symbol':healthy['Hugo_Symbol'].tolist(), 'p_values':rel_val, 'p_values_fdr':p_relval_fdr})\n",
    "sign_paired['significance:p_vlaue_fdr'] = sign_paired['p_values_fdr'].apply(lambda x: x < 0.05)\n",
    "DEG_paired_fdr = sign_paired[sign_paired['significance:p_vlaue_fdr']== True]\n",
    "\n",
    "sign_indg = pd.DataFrame({'Hugo_Symbol':healthy['Hugo_Symbol'].tolist(), 'p_values':ind_val, 'p_values_fdr':p_indval_fdr})\n",
    "sign_indg['significance:p_vlaue_fdr'] = sign_indg['p_values_fdr'].apply(lambda x: x < 0.05)\n",
    "DEG_ind_fdr = sign_indg[sign_indg['significance:p_vlaue_fdr']== True]\n",
    "\n"
   ]
  },
  {
   "cell_type": "code",
   "execution_count": 10,
   "metadata": {},
   "outputs": [
    {
     "name": "stdout",
     "output_type": "stream",
     "text": [
      "13141\n",
      "13234\n"
     ]
    }
   ],
   "source": [
    "print(len(DEG_paired_fdr[\"Hugo_Symbol\"]))\n",
    "print(len(DEG_ind_fdr[\"Hugo_Symbol\"]))"
   ]
  }
 ],
 "metadata": {
  "interpreter": {
   "hash": "61be8c8d4015cd93cf6433c95fd78eb18ff6b4622f9a43d6e604d816007f2819"
  },
  "kernelspec": {
   "display_name": "Python 3.10.2 64-bit",
   "language": "python",
   "name": "python3"
  },
  "language_info": {
   "codemirror_mode": {
    "name": "ipython",
    "version": 3
   },
   "file_extension": ".py",
   "mimetype": "text/x-python",
   "name": "python",
   "nbconvert_exporter": "python",
   "pygments_lexer": "ipython3",
   "version": "3.10.2"
  },
  "orig_nbformat": 4
 },
 "nbformat": 4,
 "nbformat_minor": 2
}
